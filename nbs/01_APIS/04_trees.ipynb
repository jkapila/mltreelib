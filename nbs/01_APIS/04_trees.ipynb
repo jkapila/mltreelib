{
 "cells": [
  {
   "cell_type": "code",
   "execution_count": null,
   "metadata": {},
   "outputs": [],
   "source": [
    "#| default_exp tree"
   ]
  },
  {
   "cell_type": "markdown",
   "metadata": {},
   "source": [
    "# Tree Implementations\n",
    "\n",
    "> More on this soon"
   ]
  },
  {
   "cell_type": "code",
   "execution_count": null,
   "metadata": {},
   "outputs": [],
   "source": [
    "#| hide\n",
    "import nbdev; nbdev.nbdev_export()"
   ]
  },
  {
   "cell_type": "code",
   "execution_count": null,
   "metadata": {},
   "outputs": [],
   "source": [
    "#| export\n",
    "from fastcore.utils import *\n",
    "import numpy as np\n",
    "import pandas as pd\n",
    "import gc\n",
    "import numba\n",
    "from mltreelib.basetree import DecisionNode, BaseDecisionTree\n",
    "from mltreelib.utils import *\n",
    "\n"
   ]
  },
  {
   "cell_type": "code",
   "execution_count": null,
   "metadata": {},
   "outputs": [],
   "source": [
    "#| hide\n",
    "from nbdev.showdoc import *\n",
    "from fastcore.test import *"
   ]
  },
  {
   "cell_type": "code",
   "execution_count": null,
   "metadata": {},
   "outputs": [],
   "source": [
    "#| export \n",
    "\n",
    "class Tree:\n",
    "    \"Tree class enable building all simpe single tree models\"\n",
    "\n",
    "    def __init__(self) -> None:\n",
    "        pass\n",
    "\n",
    "    def fit_formula(self,formula,data):\n",
    "        \"Fit using formula and dataset\"\n",
    "        pass\n",
    "\n",
    "    def fit(self,X,y):\n",
    "        \"Sklearn style fit\"\n",
    "        pass\n",
    "\n",
    "    def fit_dataset(self,dataset,X_cols,target_names):\n",
    "        \"Fit in native way\"\n",
    "        pass\n",
    "\n",
    "    def predict(self,X):\n",
    "        \"Best predicitons\"\n",
    "        pass\n",
    "\n",
    "    def predict_leaf(self,X):\n",
    "        \"Predicting vlaues\"\n",
    "        pass\n",
    "\n",
    "    def predict_proba(self,X):\n",
    "        \"Prediction probabilities\"\n",
    "        pass\n",
    "    \n",
    "    def transform(self,X,value_type='prob'):\n",
    "        \"Provide raw outputs form the tree\"\n",
    "        pass\n",
    "    \n",
    "    def apply(self,X):\n",
    "        pass\n",
    "\n",
    "    def describe(self, strucutre=False, plot=False, eval=False,importance=None):\n",
    "        \"Everythign to know about the tree\"\n",
    "        pass\n",
    "\n",
    "    def prune(self,complexity):\n",
    "        \"Prune the tree based on certain criteria\"\n",
    "        pass\n",
    "\n",
    "    def save(self):\n",
    "        \"save tree\"\n",
    "        pass\n",
    "    def load(self):\n",
    "        \"load a tree\"\n",
    "        pass\n",
    "    "
   ]
  },
  {
   "cell_type": "code",
   "execution_count": null,
   "metadata": {},
   "outputs": [],
   "source": [
    "#| export\n",
    "\n",
    "class CARTRegressionTree(BaseDecisionTree):\n",
    "    def _calculate_variance_reduction(self, y, y1, y2):\n",
    "        var_tot = calculate_variance(y)\n",
    "        var_1 = calculate_variance(y1)\n",
    "        var_2 = calculate_variance(y2)\n",
    "        frac_1 = len(y1) / len(y)\n",
    "        frac_2 = len(y2) / len(y)\n",
    "\n",
    "        # Calculate the variance reduction\n",
    "        variance_reduction = var_tot - (frac_1 * var_1 + frac_2 * var_2)\n",
    "\n",
    "        return sum(variance_reduction)\n",
    "\n",
    "    def _mean_of_y(self, y):\n",
    "        value = np.mean(y, axis=0)\n",
    "        if self.verbose: print('Leaf values:',value,value.shape,len(value.shape))\n",
    "        return value\n",
    "        # return value if len(value.shape) > 1 else value[0]\n",
    "    \n",
    "    def _cart_node_function(self,Xy, Xy1, Xy2, target,features):\n",
    "        y = Xy[[target]].values\n",
    "        y1 = Xy1[[target]].values\n",
    "        y2 = Xy2[[target]].values\n",
    "        impurity = self._calculate_variance_reduction(y,y1,y2)\n",
    "        return impurity,None, None, None\n",
    "    \n",
    "    def _cart_leaf_function(self, Xy, target, features):\n",
    "        mean_val = self._mean_of_y(Xy[target].values)\n",
    "        return mean_val, None, None, None\n",
    "\n",
    "    def fit(self, X, y):\n",
    "        # output of both node function and leaf functionisin form leaf_value/impurity,estimator,weights,addons with inputs\n",
    "        #inputs _node_function(Xy, Xy1,Xy2,target,features)\n",
    "        self._node_function = self._cart_node_function\n",
    "        #inputs _leaf_function(Xy, target, features)\n",
    "        self._leaf_function = self._cart_leaf_function\n",
    "        super(CARTRegressionTree, self).fit(X, y)\n",
    "\n"
   ]
  }
 ],
 "metadata": {
  "kernelspec": {
   "display_name": "Python 3.8.13 ('mltreedev')",
   "language": "python",
   "name": "python3"
  }
 },
 "nbformat": 4,
 "nbformat_minor": 4
}
