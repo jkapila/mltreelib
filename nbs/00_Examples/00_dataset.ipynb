{
 "cells": [
  {
   "cell_type": "markdown",
   "metadata": {},
   "source": [
    "# How to work with Datasets\n",
    "\n",
    "> A clear examples to work with dat sets.\n",
    "\n",
    "\n",
    "Starting with Creating random sample data:"
   ]
  },
  {
   "cell_type": "code",
   "execution_count": null,
   "metadata": {},
   "outputs": [],
   "source": [
    "#| hide\n",
    "from nbdev.showdoc import *"
   ]
  },
  {
   "cell_type": "code",
   "execution_count": null,
   "metadata": {},
   "outputs": [],
   "source": [
    "import numpy as np\n",
    "import pandas as pd\n",
    "from mltreelib.base.data import Dataset   "
   ]
  },
  {
   "cell_type": "code",
   "execution_count": null,
   "metadata": {},
   "outputs": [
    {
     "data": {
      "text/html": [
       "<div>\n",
       "<style scoped>\n",
       "    .dataframe tbody tr th:only-of-type {\n",
       "        vertical-align: middle;\n",
       "    }\n",
       "\n",
       "    .dataframe tbody tr th {\n",
       "        vertical-align: top;\n",
       "    }\n",
       "\n",
       "    .dataframe thead th {\n",
       "        text-align: right;\n",
       "    }\n",
       "</style>\n",
       "<table border=\"1\" class=\"dataframe\">\n",
       "  <thead>\n",
       "    <tr style=\"text-align: right;\">\n",
       "      <th></th>\n",
       "      <th>numericfull</th>\n",
       "      <th>unitint</th>\n",
       "      <th>floatfull</th>\n",
       "      <th>floatsmall</th>\n",
       "      <th>categoryobj</th>\n",
       "      <th>stringobj</th>\n",
       "    </tr>\n",
       "  </thead>\n",
       "  <tbody>\n",
       "    <tr>\n",
       "      <th>0</th>\n",
       "      <td>304</td>\n",
       "      <td>1</td>\n",
       "      <td>0.651859</td>\n",
       "      <td>11.42</td>\n",
       "      <td>a</td>\n",
       "      <td>f</td>\n",
       "    </tr>\n",
       "    <tr>\n",
       "      <th>1</th>\n",
       "      <td>212</td>\n",
       "      <td>1</td>\n",
       "      <td>0.906869</td>\n",
       "      <td>23.28</td>\n",
       "      <td>d</td>\n",
       "      <td>v</td>\n",
       "    </tr>\n",
       "    <tr>\n",
       "      <th>2</th>\n",
       "      <td>295</td>\n",
       "      <td>23</td>\n",
       "      <td>0.933262</td>\n",
       "      <td>21.79</td>\n",
       "      <td>d</td>\n",
       "      <td>t</td>\n",
       "    </tr>\n",
       "    <tr>\n",
       "      <th>3</th>\n",
       "      <td>54</td>\n",
       "      <td>19</td>\n",
       "      <td>0.919103</td>\n",
       "      <td>9.24</td>\n",
       "      <td>d</td>\n",
       "      <td>s</td>\n",
       "    </tr>\n",
       "    <tr>\n",
       "      <th>4</th>\n",
       "      <td>205</td>\n",
       "      <td>9</td>\n",
       "      <td>0.262066</td>\n",
       "      <td>16.69</td>\n",
       "      <td>a</td>\n",
       "      <td>l</td>\n",
       "    </tr>\n",
       "  </tbody>\n",
       "</table>\n",
       "</div>"
      ],
      "text/plain": [
       "   numericfull  unitint  floatfull  floatsmall categoryobj stringobj\n",
       "0          304        1   0.651859       11.42           a         f\n",
       "1          212        1   0.906869       23.28           d         v\n",
       "2          295       23   0.933262       21.79           d         t\n",
       "3           54       19   0.919103        9.24           d         s\n",
       "4          205        9   0.262066       16.69           a         l"
      ]
     },
     "execution_count": null,
     "metadata": {},
     "output_type": "execute_result"
    }
   ],
   "source": [
    "n_size = 1000000\n",
    "rnd = np.random.RandomState(1234)\n",
    "dummy_data = pd.DataFrame({'numericfull':rnd.randint(1,500,size=n_size),\n",
    "                            'unitint':rnd.randint(1,25,size=n_size),\n",
    "                            'floatfull':rnd.random_sample(size=n_size),\n",
    "                            'floatsmall':np.round(rnd.random_sample(size=n_size)+rnd.randint(1,25,size=n_size),2),\n",
    "                            'categoryobj':rnd.choice(['a','b','c','d'],size=n_size),\n",
    "                            'stringobj':rnd.choice([\"{:c}\".format(k) for k in range(97, 123)],size=n_size)})\n",
    "dummy_data.head()"
   ]
  },
  {
   "cell_type": "markdown",
   "metadata": {},
   "source": [
    "Pass it to `Dataset`  and let it do its magic"
   ]
  },
  {
   "cell_type": "code",
   "execution_count": null,
   "metadata": {},
   "outputs": [
    {
     "data": {
      "text/plain": [
       "Dataset(df=Shape((1000000, 6), reduce_datatype=True, encode_category=None, add_intercept=False, na_treatment=allow, copy=False, digits=None, n_category=None, split_ratio=None)"
      ]
     },
     "execution_count": null,
     "metadata": {},
     "output_type": "execute_result"
    }
   ],
   "source": [
    "dataset = Dataset(df=dummy_data)\n",
    "dataset"
   ]
  },
  {
   "cell_type": "markdown",
   "metadata": {},
   "source": [
    "To acess raw processed data"
   ]
  },
  {
   "cell_type": "code",
   "execution_count": null,
   "metadata": {},
   "outputs": [
    {
     "data": {
      "text/plain": [
       "array([(304,  1, 0.65185905, 11.42, 'a', 'f'),\n",
       "       (212,  1, 0.90686905, 23.28, 'd', 'v'),\n",
       "       (295, 23, 0.9332624 , 21.79, 'd', 't'),\n",
       "       ( 54, 19, 0.9191031 ,  9.24, 'd', 's'),\n",
       "       (205,  9, 0.2620663 , 16.69, 'a', 'l')],\n",
       "      dtype=[('numericfull', '<u2'), ('unitint', 'u1'), ('floatfull', '<f4'), ('floatsmall', '<f4'), ('categoryobj', 'O'), ('stringobj', 'O')])"
      ]
     },
     "execution_count": null,
     "metadata": {},
     "output_type": "execute_result"
    }
   ],
   "source": [
    "dataset.data[:5]"
   ]
  },
  {
   "cell_type": "markdown",
   "metadata": {},
   "source": [
    "***Note:*** This is a [Structured arrays](https://numpy.org/doc/stable/user/basics.rec.html) and not a simmple numpy array or pandas data frame.\n",
    "\n",
    "Size reduction is as follows:"
   ]
  },
  {
   "cell_type": "code",
   "execution_count": null,
   "metadata": {},
   "outputs": [
    {
     "name": "stdout",
     "output_type": "stream",
     "text": [
      "Pandas Data Frame        :  148.0 MB\n",
      "Dataset Structured Array :  27.0 MB\n"
     ]
    }
   ],
   "source": [
    "print('Pandas Data Frame        : ',np.round(dummy_data.memory_usage(deep=True).sum()*1e-6,2),'MB')\n",
    "print('Dataset Structured Array : ',np.round(dataset.data.nbytes*1e-6/ 1024 * 1024,2),'MB')"
   ]
  },
  {
   "cell_type": "code",
   "execution_count": null,
   "metadata": {},
   "outputs": [
    {
     "name": "stdout",
     "output_type": "stream",
     "text": [
      "<class 'pandas.core.frame.DataFrame'>\n",
      "RangeIndex: 1000000 entries, 0 to 999999\n",
      "Data columns (total 6 columns):\n",
      " #   Column       Non-Null Count    Dtype  \n",
      "---  ------       --------------    -----  \n",
      " 0   numericfull  1000000 non-null  int64  \n",
      " 1   unitint      1000000 non-null  int64  \n",
      " 2   floatfull    1000000 non-null  float64\n",
      " 3   floatsmall   1000000 non-null  float64\n",
      " 4   categoryobj  1000000 non-null  object \n",
      " 5   stringobj    1000000 non-null  object \n",
      "dtypes: float64(2), int64(2), object(2)\n",
      "memory usage: 141.1 MB\n",
      "None\n"
     ]
    }
   ],
   "source": [
    "print(dummy_data.info(memory_usage='deep'))"
   ]
  },
  {
   "cell_type": "markdown",
   "metadata": {},
   "source": [
    "# Further reduction in data size\n",
    "\n",
    "We can even further reduce data by using following parameters:"
   ]
  },
  {
   "cell_type": "code",
   "execution_count": null,
   "metadata": {},
   "outputs": [
    {
     "name": "stdout",
     "output_type": "stream",
     "text": [
      "Pandas Data Frame        :  148.0 MB\n",
      "Dataset Structured Array :  27.0 MB\n"
     ]
    }
   ],
   "source": [
    "dataset = Dataset(df=dummy_data, digits=2)\n",
    "print('Pandas Data Frame        : ',np.round(dummy_data.memory_usage(deep=True).sum()*1e-6,2),'MB')\n",
    "print('Dataset Structured Array : ',np.round(dataset.data.nbytes*1e-6/ 1024 * 1024,2),'MB')"
   ]
  },
  {
   "cell_type": "code",
   "execution_count": null,
   "metadata": {},
   "outputs": [
    {
     "data": {
      "text/plain": [
       "array([(304,  1, 0.65, 11.42, 'a', 'f'), (212,  1, 0.91, 23.28, 'd', 'v'),\n",
       "       (295, 23, 0.93, 21.79, 'd', 't'), ( 54, 19, 0.92,  9.24, 'd', 's'),\n",
       "       (205,  9, 0.26, 16.69, 'a', 'l')],\n",
       "      dtype=[('numericfull', '<u2'), ('unitint', 'u1'), ('floatfull', '<f4'), ('floatsmall', '<f4'), ('categoryobj', 'O'), ('stringobj', 'O')])"
      ]
     },
     "execution_count": null,
     "metadata": {},
     "output_type": "execute_result"
    }
   ],
   "source": [
    "dataset.data[:5]"
   ]
  }
 ],
 "metadata": {
  "kernelspec": {
   "display_name": "Python 3.8.13 ('mltreedev')",
   "language": "python",
   "name": "python3"
  }
 },
 "nbformat": 4,
 "nbformat_minor": 4
}
