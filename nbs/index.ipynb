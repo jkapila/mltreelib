{
 "cells": [
  {
   "cell_type": "code",
   "execution_count": null,
   "metadata": {},
   "outputs": [],
   "source": [
    "#| hide\n",
    "# from mltree.core import *"
   ]
  },
  {
   "cell_type": "markdown",
   "metadata": {},
   "source": [
    "# mltree\n",
    "\n",
    "> A real tree based ML package"
   ]
  },
  {
   "cell_type": "markdown",
   "metadata": {},
   "source": [
    "This package evovled from the attempt to make ***right*** kind of **Decision Tress** which was ideated by many people like Hastie, Tibshirani, Friedman, Quilan, Loh, Chaudhari."
   ]
  },
  {
   "cell_type": "markdown",
   "metadata": {},
   "source": [
    "## Install"
   ]
  },
  {
   "cell_type": "markdown",
   "metadata": {},
   "source": [
    "```sh\n",
    "pip install mltree\n",
    "```"
   ]
  },
  {
   "cell_type": "markdown",
   "metadata": {},
   "source": [
    "## How to use"
   ]
  },
  {
   "cell_type": "markdown",
   "metadata": {},
   "source": [
    "Create a sample data"
   ]
  },
  {
   "cell_type": "code",
   "execution_count": null,
   "metadata": {},
   "outputs": [
    {
     "data": {
      "text/plain": [
       "2"
      ]
     },
     "execution_count": null,
     "metadata": {},
     "output_type": "execute_result"
    }
   ],
   "source": [
    "import numpy as np\n",
    "import pandas as pd\n",
    "from mltree.data import Dataset\n",
    "from mltree.tree import Tree"
   ]
  },
  {
   "cell_type": "code",
   "execution_count": null,
   "metadata": {},
   "outputs": [],
   "source": [
    "n_size = 1000\n",
    "rnd = np.random.RandomState(1234)\n",
    "dummy_data = pd.DataFrame({'numericfull':rnd.randint(1,500,size=n_size),\n",
    "                            'unitint':rnd.randint(1,25,size=n_size),\n",
    "                            'floatfull':rnd.random_sample(size=n_size),\n",
    "                            'floatsmall':np.round(rnd.random_sample(size=n_size)+rnd.randint(1,25,size=n_size),2),\n",
    "                            'categoryobj':rnd.choice(['a','b','c','d'],size=n_size),\n",
    "                            'stringobj':rnd.choice([\"{:c}\".format(k) for k in range(97, 123)],size=n_size)})\n",
    "dummy_data.head()"
   ]
  },
  {
   "cell_type": "markdown",
   "metadata": {},
   "source": [
    "Create a Dataset"
   ]
  },
  {
   "cell_type": "code",
   "execution_count": null,
   "metadata": {},
   "outputs": [],
   "source": [
    "dataset = Dataset(df=dummy_data)\n",
    "print(dataset)\n",
    "print('Pandas Data Frame        : ',np.round(dummy_data.memory_usage(deep=True).sum()*1e-6,2),'MB')\n",
    "print('Dataset Structured Array : ',np.round(dataset.data.nbytes*1e-6/ 1024 * 1024,2),'MB')\n",
    "dataset.data[:5]"
   ]
  },
  {
   "cell_type": "code",
   "execution_count": null,
   "metadata": {},
   "outputs": [],
   "source": []
  }
 ],
 "metadata": {
  "kernelspec": {
   "display_name": "Python 3.10.1 64-bit",
   "language": "python",
   "name": "python3"
  }
 },
 "nbformat": 4,
 "nbformat_minor": 4
}
