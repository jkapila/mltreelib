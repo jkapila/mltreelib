{
 "cells": [
  {
   "cell_type": "markdown",
   "metadata": {},
   "source": [
    "# mltreelib : Machine Learnign with Tree Based Library\n",
    "\n",
    "> A real tree based ML package"
   ]
  },
  {
   "cell_type": "markdown",
   "metadata": {},
   "source": [
    "This package evovled from the attempt to make ***right*** kind of **Decision Tress** which was ideated by many people like Hastie, Tibshirani, Friedman, Quilan, Loh, Chaudhari."
   ]
  },
  {
   "cell_type": "markdown",
   "metadata": {},
   "source": [
    "## Install"
   ]
  },
  {
   "cell_type": "markdown",
   "metadata": {},
   "source": [
    "```sh\n",
    "pip install mltreelib\n",
    "```"
   ]
  },
  {
   "cell_type": "markdown",
   "metadata": {},
   "source": [
    "## How to use"
   ]
  },
  {
   "cell_type": "markdown",
   "metadata": {},
   "source": [
    "Create a sample data"
   ]
  },
  {
   "cell_type": "code",
   "execution_count": null,
   "metadata": {},
   "outputs": [],
   "source": [
    "import numpy as np\n",
    "import pandas as pd\n",
    "from mltreelib.base.data import Dataset\n",
    "from mltreelib.tree import Tree\n"
   ]
  },
  {
   "cell_type": "code",
   "execution_count": null,
   "metadata": {},
   "outputs": [
    {
     "data": {
      "text/html": [
       "<div>\n",
       "<style scoped>\n",
       "    .dataframe tbody tr th:only-of-type {\n",
       "        vertical-align: middle;\n",
       "    }\n",
       "\n",
       "    .dataframe tbody tr th {\n",
       "        vertical-align: top;\n",
       "    }\n",
       "\n",
       "    .dataframe thead th {\n",
       "        text-align: right;\n",
       "    }\n",
       "</style>\n",
       "<table border=\"1\" class=\"dataframe\">\n",
       "  <thead>\n",
       "    <tr style=\"text-align: right;\">\n",
       "      <th></th>\n",
       "      <th>numericfull</th>\n",
       "      <th>unitint</th>\n",
       "      <th>floatfull</th>\n",
       "      <th>floatsmall</th>\n",
       "      <th>categoryobj</th>\n",
       "      <th>stringobj</th>\n",
       "    </tr>\n",
       "  </thead>\n",
       "  <tbody>\n",
       "    <tr>\n",
       "      <th>0</th>\n",
       "      <td>304</td>\n",
       "      <td>18</td>\n",
       "      <td>0.908959</td>\n",
       "      <td>8.56</td>\n",
       "      <td>a</td>\n",
       "      <td>c</td>\n",
       "    </tr>\n",
       "    <tr>\n",
       "      <th>1</th>\n",
       "      <td>212</td>\n",
       "      <td>24</td>\n",
       "      <td>0.348582</td>\n",
       "      <td>14.35</td>\n",
       "      <td>a</td>\n",
       "      <td>g</td>\n",
       "    </tr>\n",
       "    <tr>\n",
       "      <th>2</th>\n",
       "      <td>295</td>\n",
       "      <td>15</td>\n",
       "      <td>0.392977</td>\n",
       "      <td>21.98</td>\n",
       "      <td>a</td>\n",
       "      <td>y</td>\n",
       "    </tr>\n",
       "    <tr>\n",
       "      <th>3</th>\n",
       "      <td>54</td>\n",
       "      <td>20</td>\n",
       "      <td>0.720856</td>\n",
       "      <td>5.33</td>\n",
       "      <td>a</td>\n",
       "      <td>q</td>\n",
       "    </tr>\n",
       "    <tr>\n",
       "      <th>4</th>\n",
       "      <td>205</td>\n",
       "      <td>21</td>\n",
       "      <td>0.897588</td>\n",
       "      <td>23.03</td>\n",
       "      <td>c</td>\n",
       "      <td>k</td>\n",
       "    </tr>\n",
       "  </tbody>\n",
       "</table>\n",
       "</div>"
      ],
      "text/plain": [
       "   numericfull  unitint  floatfull  floatsmall categoryobj stringobj\n",
       "0          304       18   0.908959        8.56           a         c\n",
       "1          212       24   0.348582       14.35           a         g\n",
       "2          295       15   0.392977       21.98           a         y\n",
       "3           54       20   0.720856        5.33           a         q\n",
       "4          205       21   0.897588       23.03           c         k"
      ]
     },
     "execution_count": null,
     "metadata": {},
     "output_type": "execute_result"
    }
   ],
   "source": [
    "n_size = 1000\n",
    "rnd = np.random.RandomState(1234)\n",
    "dummy_data = pd.DataFrame({\n",
    "    'numericfull':rnd.randint(1,500,size=n_size),\n",
    "    'unitint':rnd.randint(1,25,size=n_size),\n",
    "    'floatfull':rnd.random_sample(size=n_size),\n",
    "    'floatsmall':np.round(rnd.random_sample(size=n_size)+rnd.randint(1,25,size=n_size),2),\n",
    "    'categoryobj':rnd.choice(['a','b','c','d'],size=n_size),\n",
    "    'stringobj':rnd.choice([\"{:c}\".format(k) for k in range(97, 123)],size=n_size)})\n",
    "    \n",
    "dummy_data.head()"
   ]
  },
  {
   "cell_type": "markdown",
   "metadata": {},
   "source": [
    "Create a Dataset"
   ]
  },
  {
   "cell_type": "code",
   "execution_count": null,
   "metadata": {},
   "outputs": [
    {
     "name": "stdout",
     "output_type": "stream",
     "text": [
      "Dataset(df=Shape((1000, 6), reduce_datatype=True, encode_category=None, add_intercept=False, na_treatment=allow, copy=False, digits=None, n_category=None, split_ratio=None)\n",
      "Pandas Data Frame        :  0.15 MB\n",
      "Dataset Structured Array :  0.03 MB\n"
     ]
    },
    {
     "data": {
      "text/plain": [
       "array([(304, 18, 0.9089594 ,  8.56, 'a', 'c'),\n",
       "       (212, 24, 0.34858167, 14.35, 'a', 'g'),\n",
       "       (295, 15, 0.39297667, 21.98, 'a', 'y'),\n",
       "       ( 54, 20, 0.7208556 ,  5.33, 'a', 'q'),\n",
       "       (205, 21, 0.89758754, 23.03, 'c', 'k')],\n",
       "      dtype=[('numericfull', '<u2'), ('unitint', 'u1'), ('floatfull', '<f4'), ('floatsmall', '<f4'), ('categoryobj', 'O'), ('stringobj', 'O')])"
      ]
     },
     "execution_count": null,
     "metadata": {},
     "output_type": "execute_result"
    }
   ],
   "source": [
    "dataset = Dataset(df=dummy_data)\n",
    "print(dataset)\n",
    "print('Pandas Data Frame        : ',np.round(dummy_data.memory_usage(deep=True).sum()*1e-6,2),'MB')\n",
    "print('Dataset Structured Array : ',np.round(dataset.data.nbytes*1e-6/ 1024 * 1024,2),'MB')\n",
    "dataset.data[:5]"
   ]
  },
  {
   "cell_type": "code",
   "execution_count": null,
   "metadata": {},
   "outputs": [],
   "source": []
  }
 ],
 "metadata": {
  "kernelspec": {
   "display_name": "Python 3.8.13 ('mltreedev')",
   "language": "python",
   "name": "python3"
  }
 },
 "nbformat": 4,
 "nbformat_minor": 4
}
