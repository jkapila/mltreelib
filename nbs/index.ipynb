{
 "cells": [
  {
   "cell_type": "markdown",
   "metadata": {},
   "source": [
    "# mltreelib : Machine Learnign with Tree Based Library\n",
    "\n",
    "> A real tree based ML package"
   ]
  },
  {
   "cell_type": "markdown",
   "metadata": {},
   "source": [
    "This package evovled from the attempt to make ***right*** kind of **Decision Tress** which was ideated by many people like Hastie, Tibshirani, Friedman, Quilan, Loh, Chaudhari."
   ]
  },
  {
   "cell_type": "markdown",
   "metadata": {},
   "source": [
    "## Install"
   ]
  },
  {
   "cell_type": "markdown",
   "metadata": {},
   "source": [
    "```sh\n",
    "pip install mltreelib\n",
    "```"
   ]
  },
  {
   "cell_type": "markdown",
   "metadata": {},
   "source": [
    "## How to use"
   ]
  },
  {
   "cell_type": "markdown",
   "metadata": {},
   "source": [
    "Create a sample data"
   ]
  },
  {
   "cell_type": "code",
   "execution_count": null,
   "metadata": {},
   "outputs": [],
   "source": [
    "import numpy as np\n",
    "import pandas as pd\n",
    "from mltreelib.data import Data\n",
    "from mltreelib.tree import Tree\n"
   ]
  },
  {
   "cell_type": "code",
   "execution_count": null,
   "metadata": {},
   "outputs": [
    {
     "name": "stdout",
     "output_type": "stream",
     "text": [
      "|    |   numericfull |   unitint |   floatfull |   floatsmall | categoryobj   | stringobj   |\n",
      "|---:|--------------:|----------:|------------:|-------------:|:--------------|:------------|\n",
      "|  0 |           304 |        18 |    0.908959 |         8.56 | a             | c           |\n",
      "|  1 |           212 |        24 |    0.348582 |        14.35 | a             | g           |\n",
      "|  2 |           295 |        15 |    0.392977 |        21.98 | a             | y           |\n",
      "|  3 |            54 |        20 |    0.720856 |         5.33 | a             | q           |\n",
      "|  4 |           205 |        21 |    0.897588 |        23.03 | c             | k           |\n"
     ]
    }
   ],
   "source": [
    "n_size = 1000\n",
    "rnd = np.random.RandomState(1234)\n",
    "dummy_data = pd.DataFrame({\n",
    "    'numericfull':rnd.randint(1,500,size=n_size),\n",
    "    'unitint':rnd.randint(1,25,size=n_size),\n",
    "    'floatfull':rnd.random_sample(size=n_size),\n",
    "    'floatsmall':np.round(rnd.random_sample(size=n_size)+rnd.randint(1,25,size=n_size),2),\n",
    "    'categoryobj':rnd.choice(['a','b','c','d'],size=n_size),\n",
    "    'stringobj':rnd.choice([\"{:c}\".format(k) for k in range(97, 123)],size=n_size)})\n",
    "    \n",
    "dummy_data.head().to_markdown()"
   ]
  },
  {
   "cell_type": "markdown",
   "metadata": {},
   "source": [
    "Create a Dataset"
   ]
  },
  {
   "cell_type": "code",
   "execution_count": null,
   "metadata": {},
   "outputs": [
    {
     "name": "stdout",
     "output_type": "stream",
     "text": [
      "Dataset(df=Shape((1000, 6), reduce_datatype=True, encode_category=None, add_intercept=False, na_treatment=allow, copy=False, digits=None, n_category=None, split_ratio=None)\n",
      "Pandas Data Frame        :  0.15 MB\n",
      "Dataset Structured Array :  0.03 MB\n"
     ]
    },
    {
     "data": {
      "text/plain": [
       "array([(304, 18, 0.9089594 ,  8.56, 'a', 'c'),\n",
       "       (212, 24, 0.34858167, 14.35, 'a', 'g'),\n",
       "       (295, 15, 0.39297667, 21.98, 'a', 'y'),\n",
       "       ( 54, 20, 0.7208556 ,  5.33, 'a', 'q'),\n",
       "       (205, 21, 0.89758754, 23.03, 'c', 'k')],\n",
       "      dtype=[('numericfull', '<u2'), ('unitint', 'u1'), ('floatfull', '<f4'), ('floatsmall', '<f4'), ('categoryobj', 'O'), ('stringobj', 'O')])"
      ]
     },
     "execution_count": null,
     "metadata": {},
     "output_type": "execute_result"
    }
   ],
   "source": [
    "dataset = Data(df=dummy_data)\n",
    "print(dataset)\n",
    "print('Pandas Data Frame        : ',np.round(dummy_data.memory_usage(deep=True).sum()*1e-6,2),'MB')\n",
    "print('Dataset Structured Array : ',np.round(dataset.data.nbytes*1e-6/ 1024 * 1024,2),'MB')\n",
    "dataset.data[:5]"
   ]
  },
  {
   "cell_type": "code",
   "execution_count": null,
   "metadata": {},
   "outputs": [],
   "source": []
  }
 ],
 "metadata": {
  "kernelspec": {
   "display_name": "Python 3.8.13 ('mltreedev')",
   "language": "python",
   "name": "python3"
  }
 },
 "nbformat": 4,
 "nbformat_minor": 4
}
